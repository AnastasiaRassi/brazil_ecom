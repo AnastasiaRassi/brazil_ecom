{
 "cells": [
  {
   "cell_type": "code",
   "execution_count": 3,
   "id": "944f4a51",
   "metadata": {},
   "outputs": [],
   "source": [
    "import pandas as pd"
   ]
  },
  {
   "cell_type": "code",
   "execution_count": 4,
   "id": "8c6bfd79",
   "metadata": {},
   "outputs": [],
   "source": [
    "df=pd.read_csv(r'C:\\Users\\aalrassi\\Documents\\anastasiawork\\ML_and_DS\\brazil_ecom\\data\\brazil_ecommerce.csv')"
   ]
  },
  {
   "cell_type": "code",
   "execution_count": 5,
   "id": "b35a4436",
   "metadata": {},
   "outputs": [
    {
     "data": {
      "text/plain": [
       "Index(['order_id', 'customer_id', 'order_status', 'order_purchase_timestamp',\n",
       "       'order_approved_at', 'order_delivered_carrier_date',\n",
       "       'order_delivered_customer_date', 'order_estimated_delivery_date',\n",
       "       'late_delivery', 'customer_unique_id', 'customer_zip_code_prefix',\n",
       "       'customer_city', 'customer_state', 'raw_price', 'freight_value',\n",
       "       'num_items', 'payment_value', 'payment_installments', 'seller_id',\n",
       "       'seller_zip_code_prefix', 'seller_city', 'seller_state', 'seller_lat',\n",
       "       'seller_lng', 'customer_lat', 'customer_lng', 'product_weight_g',\n",
       "       'product_length_cm', 'product_height_cm', 'product_width_cm',\n",
       "       'product_category_name_english'],\n",
       "      dtype='object')"
      ]
     },
     "execution_count": 5,
     "metadata": {},
     "output_type": "execute_result"
    }
   ],
   "source": [
    "df.columns"
   ]
  },
  {
   "cell_type": "code",
   "execution_count": null,
   "id": "8210215b",
   "metadata": {},
   "outputs": [],
   "source": [
    "# from ydata_profiling import ProfileReport\n",
    "\n",
    "# profile = ProfileReport(df, title=\"EDA Report\", explorative=True)\n",
    "# profile.to_file(\"eda_report.html\")\n"
   ]
  },
  {
   "cell_type": "code",
   "execution_count": null,
   "id": "64c4a3e8",
   "metadata": {},
   "outputs": [
    {
     "data": {
      "text/plain": [
       "Index(['order_status', 'order_purchase_timestamp', 'order_approved_at',\n",
       "       'order_delivered_carrier_date', 'order_delivered_customer_date',\n",
       "       'order_estimated_delivery_date', 'late_delivery', 'customer_unique_id',\n",
       "       'customer_city', 'customer_state', 'price', 'freight_value',\n",
       "       'num_items', 'payment_value', 'payment_installments', 'seller_city',\n",
       "       'seller_state', 'seller_lat', 'seller_lng', 'customer_lat',\n",
       "       'customer_lng', 'product_weight_g', 'product_length_cm',\n",
       "       'product_height_cm', 'product_width_cm',\n",
       "       'product_category_name_english'],\n",
       "      dtype='object')"
      ]
     },
     "execution_count": 234,
     "metadata": {},
     "output_type": "execute_result"
    }
   ],
   "source": [
    "df.columns"
   ]
  },
  {
   "cell_type": "code",
   "execution_count": null,
   "id": "69a37007",
   "metadata": {},
   "outputs": [
    {
     "data": {
      "text/html": [
       "<div>\n",
       "<style scoped>\n",
       "    .dataframe tbody tr th:only-of-type {\n",
       "        vertical-align: middle;\n",
       "    }\n",
       "\n",
       "    .dataframe tbody tr th {\n",
       "        vertical-align: top;\n",
       "    }\n",
       "\n",
       "    .dataframe thead th {\n",
       "        text-align: right;\n",
       "    }\n",
       "</style>\n",
       "<table border=\"1\" class=\"dataframe\">\n",
       "  <thead>\n",
       "    <tr style=\"text-align: right;\">\n",
       "      <th></th>\n",
       "      <th>order_delivered_carrier_date</th>\n",
       "      <th>order_delivered_customer_date</th>\n",
       "    </tr>\n",
       "  </thead>\n",
       "  <tbody>\n",
       "    <tr>\n",
       "      <th>0</th>\n",
       "      <td>2017-10-04 19:55:00</td>\n",
       "      <td>2017-10-10 21:25:13</td>\n",
       "    </tr>\n",
       "    <tr>\n",
       "      <th>1</th>\n",
       "      <td>2018-07-26 14:31:00</td>\n",
       "      <td>2018-08-07 15:27:45</td>\n",
       "    </tr>\n",
       "    <tr>\n",
       "      <th>2</th>\n",
       "      <td>2018-08-08 13:50:00</td>\n",
       "      <td>2018-08-17 18:06:29</td>\n",
       "    </tr>\n",
       "    <tr>\n",
       "      <th>3</th>\n",
       "      <td>2017-11-22 13:39:59</td>\n",
       "      <td>2017-12-02 00:28:42</td>\n",
       "    </tr>\n",
       "    <tr>\n",
       "      <th>4</th>\n",
       "      <td>2018-02-14 19:46:34</td>\n",
       "      <td>2018-02-16 18:17:02</td>\n",
       "    </tr>\n",
       "    <tr>\n",
       "      <th>...</th>\n",
       "      <td>...</td>\n",
       "      <td>...</td>\n",
       "    </tr>\n",
       "    <tr>\n",
       "      <th>99436</th>\n",
       "      <td>2017-03-10 11:18:03</td>\n",
       "      <td>2017-03-17 15:08:01</td>\n",
       "    </tr>\n",
       "    <tr>\n",
       "      <th>99437</th>\n",
       "      <td>2018-02-07 23:22:42</td>\n",
       "      <td>2018-02-28 17:37:56</td>\n",
       "    </tr>\n",
       "    <tr>\n",
       "      <th>99438</th>\n",
       "      <td>2017-08-28 20:52:26</td>\n",
       "      <td>2017-09-21 11:24:17</td>\n",
       "    </tr>\n",
       "    <tr>\n",
       "      <th>99439</th>\n",
       "      <td>2018-01-12 15:35:03</td>\n",
       "      <td>2018-01-25 23:32:54</td>\n",
       "    </tr>\n",
       "    <tr>\n",
       "      <th>99440</th>\n",
       "      <td>2018-03-09 22:11:59</td>\n",
       "      <td>2018-03-16 13:08:30</td>\n",
       "    </tr>\n",
       "  </tbody>\n",
       "</table>\n",
       "<p>99441 rows × 2 columns</p>\n",
       "</div>"
      ],
      "text/plain": [
       "      order_delivered_carrier_date order_delivered_customer_date\n",
       "0              2017-10-04 19:55:00           2017-10-10 21:25:13\n",
       "1              2018-07-26 14:31:00           2018-08-07 15:27:45\n",
       "2              2018-08-08 13:50:00           2018-08-17 18:06:29\n",
       "3              2017-11-22 13:39:59           2017-12-02 00:28:42\n",
       "4              2018-02-14 19:46:34           2018-02-16 18:17:02\n",
       "...                            ...                           ...\n",
       "99436          2017-03-10 11:18:03           2017-03-17 15:08:01\n",
       "99437          2018-02-07 23:22:42           2018-02-28 17:37:56\n",
       "99438          2017-08-28 20:52:26           2017-09-21 11:24:17\n",
       "99439          2018-01-12 15:35:03           2018-01-25 23:32:54\n",
       "99440          2018-03-09 22:11:59           2018-03-16 13:08:30\n",
       "\n",
       "[99441 rows x 2 columns]"
      ]
     },
     "execution_count": 235,
     "metadata": {},
     "output_type": "execute_result"
    }
   ],
   "source": [
    "df[['order_delivered_carrier_date','order_delivered_customer_date']]"
   ]
  },
  {
   "cell_type": "code",
   "execution_count": null,
   "id": "b6032522",
   "metadata": {},
   "outputs": [
    {
     "data": {
      "text/plain": [
       "np.int64(0)"
      ]
     },
     "execution_count": 236,
     "metadata": {},
     "output_type": "execute_result"
    }
   ],
   "source": [
    "df.duplicated().sum()\n",
    "# Replace non-breaking spaces in a string (if pasting code as a string)"
   ]
  },
  {
   "cell_type": "code",
   "execution_count": null,
   "id": "1029458e",
   "metadata": {},
   "outputs": [],
   "source": [
    "import numpy as np\n",
    "import pandas as pd\n",
    "\n",
    "# --- 1. Physical distance (Haversine formula) ---\n",
    "def haversine(lat1, lon1, lat2, lon2):\n",
    "    lat1, lon1, lat2, lon2 = map(np.radians, [lat1, lon1, lat2, lon2])\n",
    "    dlat = lat2 - lat1\n",
    "    dlon = lon2 - lon1\n",
    "    a = np.sin(dlat/2)**2 + np.cos(lat1)*np.cos(lat2)*np.sin(dlon/2)**2\n",
    "    c = 2 * np.arcsin(np.sqrt(a))\n",
    "    r = 6371  # Earth radius in km\n",
    "    return c * r\n",
    "\n",
    "df['distance_km'] = haversine(df['customer_lat'], df['customer_lng'],\n",
    "                              df['seller_lat'], df['seller_lng'])\n",
    "\n",
    "# --- 2. Order processing time ---\n",
    "# Make sure timestamps are datetime\n",
    "df['order_purchase_timestamp'] = pd.to_datetime(df['order_purchase_timestamp'])\n",
    "df['order_approved_at'] = pd.to_datetime(df['order_approved_at'])\n",
    "\n",
    "df['processing_time_hours'] = (df['order_approved_at'] - df['order_purchase_timestamp']).dt.total_seconds() / 3600\n",
    "\n",
    "# --- 3. Carrier delay potential ---\n",
    "df['order_delivered_carrier_date'] = pd.to_datetime(df['order_delivered_carrier_date'])\n",
    "df['carrier_delay_hours'] = (df['order_delivered_carrier_date'] - df['order_approved_at']).dt.total_seconds() / 3600\n",
    "\n",
    "# Optional: handle missing/negative values\n",
    "df['processing_time_hours'] = df['processing_time_hours'].clip(lower=0)\n",
    "df['carrier_delay_hours'] = df['carrier_delay_hours'].clip(lower=0)\n",
    "\n",
    "# Quick check\n",
    "# df[['distance_km', 'processing_time_hours', 'carrier_delay_hours']].head()\n"
   ]
  },
  {
   "cell_type": "code",
   "execution_count": null,
   "id": "c1aeadb7",
   "metadata": {},
   "outputs": [],
   "source": [
    "df = df.dropna(subset=['customer_lat', 'customer_lng', 'seller_lat', 'seller_lng',\n",
    "                       'order_purchase_timestamp', 'order_approved_at',\n",
    "                       'order_delivered_carrier_date'])\n"
   ]
  },
  {
   "cell_type": "code",
   "execution_count": null,
   "id": "6f55df2e",
   "metadata": {},
   "outputs": [
    {
     "name": "stdout",
     "output_type": "stream",
     "text": [
      "Baseline accuracy: 0.92\n",
      "Baseline F1-score (late deliveries): 0.00\n",
      "Confusion matrix:\n",
      "[[89382     0]\n",
      " [ 7776     0]]\n"
     ]
    }
   ],
   "source": [
    "df = df.copy()  # make a full copy first\n",
    "df['baseline_pred'] = 0\n",
    "\n",
    "# Evaluate\n",
    "from sklearn.metrics import accuracy_score, f1_score, confusion_matrix\n",
    "\n",
    "y_true = df['late_delivery']\n",
    "y_pred = df['baseline_pred']\n",
    "\n",
    "acc = accuracy_score(y_true, y_pred)\n",
    "f1 = f1_score(y_true, y_pred)  # F1 for the minority class\n",
    "cm = confusion_matrix(y_true, y_pred)\n",
    "\n",
    "print(f\"Baseline accuracy: {acc:.2f}\")\n",
    "print(f\"Baseline F1-score (late deliveries): {f1:.2f}\")\n",
    "print(\"Confusion matrix:\")\n",
    "print(cm)\n"
   ]
  },
  {
   "cell_type": "code",
   "execution_count": null,
   "id": "9c348034",
   "metadata": {},
   "outputs": [
    {
     "data": {
      "text/plain": [
       "Index(['order_status', 'order_purchase_timestamp', 'order_approved_at',\n",
       "       'order_delivered_carrier_date', 'order_delivered_customer_date',\n",
       "       'order_estimated_delivery_date', 'late_delivery', 'customer_unique_id',\n",
       "       'customer_city', 'customer_state', 'price', 'freight_value',\n",
       "       'num_items', 'payment_value', 'payment_installments', 'seller_city',\n",
       "       'seller_state', 'seller_lat', 'seller_lng', 'customer_lat',\n",
       "       'customer_lng', 'product_weight_g', 'product_length_cm',\n",
       "       'product_height_cm', 'product_width_cm',\n",
       "       'product_category_name_english', 'distance_km', 'processing_time_hours',\n",
       "       'carrier_delay_hours', 'baseline_pred'],\n",
       "      dtype='object')"
      ]
     },
     "execution_count": 240,
     "metadata": {},
     "output_type": "execute_result"
    }
   ],
   "source": [
    "df.columns"
   ]
  },
  {
   "cell_type": "code",
   "execution_count": null,
   "id": "d23b3930",
   "metadata": {},
   "outputs": [],
   "source": [
    "df['order_purchase_timestamp'] = pd.to_datetime(df['order_purchase_timestamp'])"
   ]
  },
  {
   "cell_type": "code",
   "execution_count": null,
   "id": "2008b86d",
   "metadata": {},
   "outputs": [
    {
     "name": "stderr",
     "output_type": "stream",
     "text": [
      "C:\\Users\\aalrassi\\AppData\\Local\\Temp\\ipykernel_3324\\2935203292.py:40: FutureWarning: A value is trying to be set on a copy of a DataFrame or Series through chained assignment using an inplace method.\n",
      "The behavior will change in pandas 3.0. This inplace method will never work because the intermediate object on which we are setting values always behaves as a copy.\n",
      "\n",
      "For example, when doing 'df[col].method(value, inplace=True)', try using 'df.method({col: value}, inplace=True)' or df[col] = df[col].method(value) instead, to perform the operation inplace on the original object.\n",
      "\n",
      "\n",
      "  df['customer_late_rate_hist'].fillna(0, inplace=True)\n",
      "C:\\Users\\aalrassi\\AppData\\Local\\Temp\\ipykernel_3324\\2935203292.py:46: FutureWarning: A value is trying to be set on a copy of a DataFrame or Series through chained assignment using an inplace method.\n",
      "The behavior will change in pandas 3.0. This inplace method will never work because the intermediate object on which we are setting values always behaves as a copy.\n",
      "\n",
      "For example, when doing 'df[col].method(value, inplace=True)', try using 'df.method({col: value}, inplace=True)' or df[col] = df[col].method(value) instead, to perform the operation inplace on the original object.\n",
      "\n",
      "\n",
      "  df['seller_late_rate_hist'].fillna(0, inplace=True)\n"
     ]
    }
   ],
   "source": [
    "import pandas as pd\n",
    "import numpy as np\n",
    "\n",
    "df = df.copy()  # avoid modifying original\n",
    "\n",
    "# --- 1. Timestamp features (without leaking delivery) ---\n",
    "df['order_purchase_timestamp'] = pd.to_datetime(df['order_purchase_timestamp'])\n",
    "df['order_approved_at'] = pd.to_datetime(df['order_approved_at'])\n",
    "df['order_delivered_carrier_date'] = pd.to_datetime(df['order_delivered_carrier_date'])\n",
    "\n",
    "# Time differences available at order/approval/shipping\n",
    "df['time_to_approve_hours'] = (df['order_approved_at'] - df['order_purchase_timestamp']).dt.total_seconds() / 3600\n",
    "df['time_to_ship_hours'] = (df['order_delivered_carrier_date'] - df['order_approved_at']).dt.total_seconds() / 3600\n",
    "\n",
    "# Purchase day-of-week / month / hour\n",
    "df['purchase_dayofweek'] = df['order_purchase_timestamp'].dt.dayofweek\n",
    "df['purchase_month'] = df['order_purchase_timestamp'].dt.month\n",
    "df['purchase_hour'] = df['order_purchase_timestamp'].dt.hour\n",
    "df['purchase_weekend'] = df['purchase_dayofweek'].isin([5,6]).astype(int)\n",
    "\n",
    "# --- 2. Location features ---\n",
    "df['same_state'] = (df['seller_state'] == df['customer_state']).astype(int)\n",
    "# distance_km already exists, optional: recompute via Haversine if needed\n",
    "\n",
    "# --- 3. Product features ---\n",
    "df['product_volume_cm3'] = df['product_length_cm'] * df['product_width_cm'] * df['product_height_cm']\n",
    "df['product_density_g_per_cm3'] = df['product_weight_g'] / df['product_volume_cm3'].replace(0, np.nan)\n",
    "\n",
    "# --- 4. Price/freight features ---\n",
    "df['freight_ratio'] = df['freight_value'] / df['price'].replace(0, np.nan)\n",
    "\n",
    "# --- 5. Customer / seller history features (aggregates) ---\n",
    "# Sort by purchase time\n",
    "df = df.sort_values('order_purchase_timestamp')\n",
    "\n",
    "# Cumulative sum / count for historical rate\n",
    "df['customer_orders_so_far'] = df.groupby('customer_unique_id').cumcount()\n",
    "df['customer_late_cumsum'] = df.groupby('customer_unique_id')['late_delivery'].cumsum() - df['late_delivery']\n",
    "df['customer_late_rate_hist'] = df['customer_late_cumsum'] / df['customer_orders_so_far'].replace(0, np.nan)\n",
    "df['customer_late_rate_hist'].fillna(0, inplace=True)\n",
    "\n",
    "# Similarly for seller\n",
    "df['seller_orders_so_far'] = df.groupby('seller_city').cumcount()\n",
    "df['seller_late_cumsum'] = df.groupby('seller_city')['late_delivery'].cumsum() - df['late_delivery']\n",
    "df['seller_late_rate_hist'] = df['seller_late_cumsum'] / df['seller_orders_so_far'].replace(0, np.nan)\n",
    "df['seller_late_rate_hist'].fillna(0, inplace=True)\n",
    "\n",
    "# df = df.merge('customer_late_rate_hist_hist', on='customer_unique_id', how='left')\n",
    "# df = df.merge('seller_late_rate_hist_hist', on='seller_city', how='left')\n",
    "\n",
    "# --- 6. Shipment size features ---\n",
    "df['total_weight'] = df['product_weight_g'] * df['num_items']\n",
    "df['total_volume'] = df['product_volume_cm3'] * df['num_items']\n",
    "\n",
    "# --- 7. Payment / order features ---\n",
    "df['price_per_item'] = df['price'] / df['num_items'].replace(0, np.nan)\n",
    "df['installment_value'] = df['payment_value'] / df['payment_installments'].replace(0, np.nan)\n",
    "\n",
    "# --- 8. Interaction features ---\n",
    "df['weight_times_distance'] = df['total_weight'] * df['distance_km']\n",
    "df['processing_over_distance'] = df['time_to_approve_hours'] / df['distance_km'].replace(0, np.nan)\n",
    "\n",
    "df.fillna(0, inplace=True)\n",
    "\n",
    "import holidays\n",
    "\n",
    "years = df['order_purchase_timestamp'].dt.year.unique()\n",
    "br_holidays = holidays.Brazil(years=years)\n",
    "\n",
    "\n",
    "df['is_holiday_purchase'] = df['order_purchase_timestamp'].dt.date.isin(br_holidays).astype(int)\n",
    "\n",
    "# Now df has all engineered features that **do not leak delivery time**\n",
    "features_for_model = ['is_holiday_purchase',\n",
    "    'time_to_approve_hours', 'time_to_ship_hours',\n",
    "    'purchase_dayofweek', 'purchase_month', 'purchase_hour', 'purchase_weekend',\n",
    "    'same_state', 'distance_km',\n",
    "    'product_volume_cm3', 'product_density_g_per_cm3', 'total_weight', 'total_volume',\n",
    "    'freight_ratio', 'price_per_item', 'installment_value',\n",
    "    'weight_times_distance', 'processing_over_distance',\n",
    "    'customer_late_rate_hist', 'seller_late_rate_hist'\n",
    "]\n",
    "\n",
    "# y = df['late_delivery']\n"
   ]
  },
  {
   "cell_type": "code",
   "execution_count": null,
   "id": "cd3e6517",
   "metadata": {},
   "outputs": [
    {
     "name": "stdout",
     "output_type": "stream",
     "text": [
      "Correlation: -0.023\n"
     ]
    }
   ],
   "source": [
    "corr = df['is_holiday_purchase'].corr(df['late_delivery'])\n",
    "print(f\"Correlation: {corr:.3f}\")\n"
   ]
  },
  {
   "cell_type": "markdown",
   "id": "3686ff2d",
   "metadata": {},
   "source": [
    "### Basic training"
   ]
  },
  {
   "cell_type": "code",
   "execution_count": null,
   "id": "94abd446",
   "metadata": {},
   "outputs": [
    {
     "name": "stdout",
     "output_type": "stream",
     "text": [
      "Weighted F1: 0.33315477083583916\n",
      "F1-score: 0.67\n",
      "Confusion matrix:\n",
      "[[   0 1556]\n",
      " [   0 1555]]\n"
     ]
    }
   ],
   "source": [
    "import pandas as pd\n",
    "import numpy as np\n",
    "from sklearn.model_selection import train_test_split\n",
    "from sklearn.metrics import f1_score, confusion_matrix\n",
    "\n",
    "# --- 1. Select features and target ---\n",
    "features = features_for_model\n",
    "target = 'late_delivery'\n",
    "\n",
    "df = df.copy()  # avoid SettingWithCopyWarning\n",
    "\n",
    "# Drop rows with missing features\n",
    "df_model = df[features + [target]].dropna()\n",
    "\n",
    "# --- 2. Undersample majority class ---\n",
    "df_late = df_model[df_model[target] == 1]\n",
    "df_on_time = df_model[df_model[target] == 0]\n",
    "\n",
    "# Randomly sample from on-time to match late deliveries\n",
    "df_on_time_sampled = df_on_time.sample(n=len(df_late), random_state=42)\n",
    "df_balanced = pd.concat([df_late, df_on_time_sampled]).sample(frac=1, random_state=42)  # shuffle\n",
    "\n",
    "X = df_balanced[features]\n",
    "y = df_balanced[target]\n",
    "\n",
    "# --- 3. Train/test split ---\n",
    "X_train, X_test, y_train, y_test = train_test_split(\n",
    "    X, y, test_size=0.2, random_state=42, stratify=y\n",
    ")\n",
    "\n",
    "# --- 4. Baseline prediction ---\n",
    "# Option 1: Predict majority class in training set\n",
    "majority_class = y_train.value_counts().idxmax()\n",
    "y_pred_baseline = np.full(shape=len(y_test), fill_value=majority_class)\n",
    "\n",
    "# --- 5. Evaluate ---\n",
    "f1 = f1_score(y_test, y_pred_baseline)\n",
    "f1_w = f1_score(y_test, y_pred_baseline, average='weighted')\n",
    "cm = confusion_matrix(y_test, y_pred_baseline)\n",
    "\n",
    "print(\"Weighted F1:\", f1_w)\n",
    "print(f\"F1-score: {f1:.2f}\")\n",
    "print(\"Confusion matrix:\")\n",
    "print(cm)\n"
   ]
  },
  {
   "cell_type": "code",
   "execution_count": null,
   "id": "8a8ccbac",
   "metadata": {},
   "outputs": [
    {
     "name": "stdout",
     "output_type": "stream",
     "text": [
      "Weighted F1: 0.7076967691089057\n",
      "F1-score: 0.70\n",
      "Confusion matrix:\n",
      "[[1132  424]\n",
      " [ 485 1070]]\n"
     ]
    }
   ],
   "source": [
    "import pandas as pd\n",
    "import numpy as np\n",
    "from sklearn.model_selection import train_test_split\n",
    "from sklearn.metrics import f1_score, confusion_matrix\n",
    "import lightgbm as lgb\n",
    "\n",
    "# --- 1. Select features and target ---\n",
    "features = features_for_model\n",
    "target = 'late_delivery'\n",
    "\n",
    "df = df.copy()  # avoid SettingWithCopyWarning\n",
    "\n",
    "# Drop rows with missing features\n",
    "df_model = df[features + [target]].dropna()\n",
    "\n",
    "# --- 2. Undersample majority class ---\n",
    "df_late = df_model[df_model[target] == 1]\n",
    "df_on_time = df_model[df_model[target] == 0]\n",
    "\n",
    "# Randomly sample from on-time to match late deliveries\n",
    "df_on_time_sampled = df_on_time.sample(n=len(df_late), random_state=42)\n",
    "df = pd.concat([df_late, df_on_time_sampled]).sample(frac=1, random_state=42)  # shuffle\n",
    "\n",
    "X = df[features]\n",
    "y = df[target]\n",
    "\n",
    "# --- 3. Train/test split ---\n",
    "X_train, X_test, y_train, y_test = train_test_split(\n",
    "    X, y, test_size=0.2, random_state=42, stratify=y\n",
    ")\n",
    "\n",
    "# --- 4. Train LightGBM classifier ---\n",
    "lgb_train = lgb.Dataset(X_train, label=y_train)\n",
    "lgb_eval = lgb.Dataset(X_test, label=y_test, reference=lgb_train)\n",
    "\n",
    "params = {\n",
    "    'objective': 'binary',\n",
    "    'metric': 'binary_logloss',\n",
    "    'verbose': -1,\n",
    "    'boosting_type': 'gbdt',\n",
    "    'seed': 42\n",
    "}\n",
    "\n",
    "model = lgb.train(params, lgb_train, valid_sets=[lgb_eval], num_boost_round=100)\n",
    "\n",
    "# --- 5. Evaluate ---\n",
    "y_pred = model.predict(X_test)\n",
    "y_pred_binary = (y_pred >= 0.5).astype(int)\n",
    "\n",
    "f1 = f1_score(y_test, y_pred_binary)\n",
    "cm = confusion_matrix(y_test, y_pred_binary)\n",
    "\n",
    "f1_w = f1_score(y_test, y_pred_binary, average='weighted')\n",
    "\n",
    "print(\"Weighted F1:\", f1_w)\n",
    "print(f\"F1-score: {f1:.2f}\")\n",
    "print(\"Confusion matrix:\")\n",
    "print(cm)\n"
   ]
  },
  {
   "cell_type": "code",
   "execution_count": null,
   "id": "7036498d",
   "metadata": {},
   "outputs": [
    {
     "name": "stdout",
     "output_type": "stream",
     "text": [
      "Top 10 features by importance:\n",
      "time_to_ship_hours          6861.677848\n",
      "purchase_month              6700.212012\n",
      "seller_late_rate_hist       3949.233645\n",
      "distance_km                 3029.008655\n",
      "processing_over_distance    1377.657679\n",
      "installment_value           1271.238799\n",
      "time_to_approve_hours       1210.902206\n",
      "same_state                  1196.146792\n",
      "price_per_item              1159.469101\n",
      "weight_times_distance       1103.953690\n",
      "dtype: float64\n"
     ]
    },
    {
     "data": {
      "image/png": "[encoded data removed]",
      "text/plain": [
       "<Figure size 800x600 with 1 Axes>"
      ]
     },
     "metadata": {},
     "output_type": "display_data"
    }
   ],
   "source": [
    "import lightgbm as lgb\n",
    "import matplotlib.pyplot as plt\n",
    "import pandas as pd\n",
    "import numpy as np\n",
    "\n",
    "# Assuming you already have:\n",
    "# model: trained lgb.Booster or LGBMClassifier\n",
    "# X: dataframe of features used for training\n",
    "\n",
    "# --- 1. Get feature importances ---\n",
    "if isinstance(model, lgb.Booster):\n",
    "    importance = model.feature_importance(importance_type='gain')  # or 'split'\n",
    "else:\n",
    "    importance = model.feature_importances_\n",
    "\n",
    "feat_importances = pd.Series(importance, index=X.columns).sort_values(ascending=False)\n",
    "\n",
    "# --- 2. Print top 10 features ---\n",
    "print(\"Top 10 features by importance:\")\n",
    "print(feat_importances.head(10))\n",
    "\n",
    "# --- 3. Visualize feature importance ---\n",
    "plt.figure(figsize=(8,6))\n",
    "feat_importances.head(20).plot(kind='barh', color='skyblue')\n",
    "plt.xlabel(\"Importance (gain)\")\n",
    "plt.title(\"Top 20 LightGBM Features\")\n",
    "plt.gca().invert_yaxis()  # largest on top\n",
    "plt.show()\n"
   ]
  },
  {
   "cell_type": "code",
   "execution_count": null,
   "id": "7d151c98",
   "metadata": {},
   "outputs": [
    {
     "name": "stdout",
     "output_type": "stream",
     "text": [
      "F1-score: 0.500096618357488\n",
      "Confusion matrix:\n",
      " [[3909 3867]\n",
      " [3894 3882]]\n"
     ]
    }
   ],
   "source": [
    "import numpy as np\n",
    "from sklearn.metrics import f1_score, confusion_matrix\n",
    "\n",
    "# Since balanced, baseline = predict half late, half on-time randomly\n",
    "y_true = df_balanced['late_delivery'].values\n",
    "y_pred = np.random.choice([0, 1], size=len(y_true))\n",
    "\n",
    "print(\"F1-score:\", f1_score(y_true, y_pred))\n",
    "print(\"Confusion matrix:\\n\", confusion_matrix(y_true, y_pred))\n"
   ]
  },
  {
   "cell_type": "code",
   "execution_count": null,
   "id": "01a062ec",
   "metadata": {},
   "outputs": [
    {
     "data": {
      "image/png": "[encoded data removed]",
      "text/plain": [
       "<Figure size 800x500 with 1 Axes>"
      ]
     },
     "metadata": {},
     "output_type": "display_data"
    }
   ],
   "source": [
    "import matplotlib.pyplot as plt\n",
    "import numpy as np\n",
    "%matplotlib inline\n",
    "\n",
    "y_test_array = y_test.values\n",
    "y_pred_binary = (y_pred >= 0.5).astype(int)\n",
    "\n",
    "\n",
    "true_on_time  = np.sum(y_test_array == 0)\n",
    "pred_on_time  = np.sum(y_pred_binary == 0)\n",
    "true_late     = np.sum(y_test_array == 1)\n",
    "pred_late     = np.sum(y_pred_binary == 1)\n",
    "\n",
    "counts = [true_on_time, pred_on_time, true_late, pred_late]\n",
    "labels = ['True On-time', 'Predicted On-time', 'True Late', 'Predicted Late']\n",
    "colors = ['skyblue', 'salmon', 'skyblue', 'salmon']\n",
    "\n",
    "fig, ax = plt.subplots(figsize=(8,5))\n",
    "ax.bar(labels, counts, color=colors)\n",
    "ax.set_ylabel('Count')\n",
    "ax.set_title('True vs Predicted Late Deliveries')\n",
    "plt.tight_layout()\n",
    "plt.show()\n"
   ]
  },
  {
   "cell_type": "code",
   "execution_count": null,
   "id": "31eeba64",
   "metadata": {},
   "outputs": [
    {
     "ename": "ValueError",
     "evalue": "Found input variables with inconsistent numbers of samples: [3111, 15552]",
     "output_type": "error",
     "traceback": [
      "\u001b[1;31m---------------------------------------------------------------------------\u001b[0m",
      "\u001b[1;31mValueError\u001b[0m                                Traceback (most recent call last)",
      "Cell \u001b[1;32mIn[248], line 3\u001b[0m\n\u001b[0;32m      1\u001b[0m \u001b[38;5;28;01mimport\u001b[39;00m\u001b[38;5;250m \u001b[39m\u001b[38;5;21;01mseaborn\u001b[39;00m\u001b[38;5;250m \u001b[39m\u001b[38;5;28;01mas\u001b[39;00m\u001b[38;5;250m \u001b[39m\u001b[38;5;21;01msns\u001b[39;00m\n\u001b[0;32m      2\u001b[0m \u001b[38;5;28;01mfrom\u001b[39;00m\u001b[38;5;250m \u001b[39m\u001b[38;5;21;01msklearn\u001b[39;00m\u001b[38;5;21;01m.\u001b[39;00m\u001b[38;5;21;01mmetrics\u001b[39;00m\u001b[38;5;250m \u001b[39m\u001b[38;5;28;01mimport\u001b[39;00m confusion_matrix\n\u001b[1;32m----> 3\u001b[0m cm \u001b[38;5;241m=\u001b[39m \u001b[43mconfusion_matrix\u001b[49m\u001b[43m(\u001b[49m\u001b[43my_test\u001b[49m\u001b[43m,\u001b[49m\u001b[43m \u001b[49m\u001b[43my_pred_binary\u001b[49m\u001b[43m)\u001b[49m\n\u001b[0;32m      4\u001b[0m sns\u001b[38;5;241m.\u001b[39mheatmap(cm, annot\u001b[38;5;241m=\u001b[39m\u001b[38;5;28;01mTrue\u001b[39;00m, fmt\u001b[38;5;241m=\u001b[39m\u001b[38;5;124m'\u001b[39m\u001b[38;5;124md\u001b[39m\u001b[38;5;124m'\u001b[39m, cmap\u001b[38;5;241m=\u001b[39m\u001b[38;5;124m'\u001b[39m\u001b[38;5;124mBlues\u001b[39m\u001b[38;5;124m'\u001b[39m,\n\u001b[0;32m      5\u001b[0m             xticklabels\u001b[38;5;241m=\u001b[39m[\u001b[38;5;124m'\u001b[39m\u001b[38;5;124mPred On-time\u001b[39m\u001b[38;5;124m'\u001b[39m, \u001b[38;5;124m'\u001b[39m\u001b[38;5;124mPred Late\u001b[39m\u001b[38;5;124m'\u001b[39m],\n\u001b[0;32m      6\u001b[0m             yticklabels\u001b[38;5;241m=\u001b[39m[\u001b[38;5;124m'\u001b[39m\u001b[38;5;124mTrue On-time\u001b[39m\u001b[38;5;124m'\u001b[39m, \u001b[38;5;124m'\u001b[39m\u001b[38;5;124mTrue Late\u001b[39m\u001b[38;5;124m'\u001b[39m])\n\u001b[0;32m      7\u001b[0m plt\u001b[38;5;241m.\u001b[39mxlabel(\u001b[38;5;124m'\u001b[39m\u001b[38;5;124mPrediction\u001b[39m\u001b[38;5;124m'\u001b[39m)\n",
      "File \u001b[1;32mc:\\Users\\aalrassi\\AppData\\Local\\miniconda3\\envs\\brazil_ecom\\lib\\site-packages\\sklearn\\utils\\_param_validation.py:216\u001b[0m, in \u001b[0;36mvalidate_params.<locals>.decorator.<locals>.wrapper\u001b[1;34m(*args, **kwargs)\u001b[0m\n\u001b[0;32m    210\u001b[0m \u001b[38;5;28;01mtry\u001b[39;00m:\n\u001b[0;32m    211\u001b[0m     \u001b[38;5;28;01mwith\u001b[39;00m config_context(\n\u001b[0;32m    212\u001b[0m         skip_parameter_validation\u001b[38;5;241m=\u001b[39m(\n\u001b[0;32m    213\u001b[0m             prefer_skip_nested_validation \u001b[38;5;129;01mor\u001b[39;00m global_skip_validation\n\u001b[0;32m    214\u001b[0m         )\n\u001b[0;32m    215\u001b[0m     ):\n\u001b[1;32m--> 216\u001b[0m         \u001b[38;5;28;01mreturn\u001b[39;00m func(\u001b[38;5;241m*\u001b[39margs, \u001b[38;5;241m*\u001b[39m\u001b[38;5;241m*\u001b[39mkwargs)\n\u001b[0;32m    217\u001b[0m \u001b[38;5;28;01mexcept\u001b[39;00m InvalidParameterError \u001b[38;5;28;01mas\u001b[39;00m e:\n\u001b[0;32m    218\u001b[0m     \u001b[38;5;66;03m# When the function is just a wrapper around an estimator, we allow\u001b[39;00m\n\u001b[0;32m    219\u001b[0m     \u001b[38;5;66;03m# the function to delegate validation to the estimator, but we replace\u001b[39;00m\n\u001b[0;32m    220\u001b[0m     \u001b[38;5;66;03m# the name of the estimator by the name of the function in the error\u001b[39;00m\n\u001b[0;32m    221\u001b[0m     \u001b[38;5;66;03m# message to avoid confusion.\u001b[39;00m\n\u001b[0;32m    222\u001b[0m     msg \u001b[38;5;241m=\u001b[39m re\u001b[38;5;241m.\u001b[39msub(\n\u001b[0;32m    223\u001b[0m         \u001b[38;5;124mr\u001b[39m\u001b[38;5;124m\"\u001b[39m\u001b[38;5;124mparameter of \u001b[39m\u001b[38;5;124m\\\u001b[39m\u001b[38;5;124mw+ must be\u001b[39m\u001b[38;5;124m\"\u001b[39m,\n\u001b[0;32m    224\u001b[0m         \u001b[38;5;124mf\u001b[39m\u001b[38;5;124m\"\u001b[39m\u001b[38;5;124mparameter of \u001b[39m\u001b[38;5;132;01m{\u001b[39;00mfunc\u001b[38;5;241m.\u001b[39m\u001b[38;5;18m__qualname__\u001b[39m\u001b[38;5;132;01m}\u001b[39;00m\u001b[38;5;124m must be\u001b[39m\u001b[38;5;124m\"\u001b[39m,\n\u001b[0;32m    225\u001b[0m         \u001b[38;5;28mstr\u001b[39m(e),\n\u001b[0;32m    226\u001b[0m     )\n",
      "File \u001b[1;32mc:\\Users\\aalrassi\\AppData\\Local\\miniconda3\\envs\\brazil_ecom\\lib\\site-packages\\sklearn\\metrics\\_classification.py:340\u001b[0m, in \u001b[0;36mconfusion_matrix\u001b[1;34m(y_true, y_pred, labels, sample_weight, normalize)\u001b[0m\n\u001b[0;32m    257\u001b[0m \u001b[38;5;250m\u001b[39m\u001b[38;5;124;03m\"\"\"Compute confusion matrix to evaluate the accuracy of a classification.\u001b[39;00m\n\u001b[0;32m    258\u001b[0m \n\u001b[0;32m    259\u001b[0m \u001b[38;5;124;03mBy definition a confusion matrix :math:`C` is such that :math:`C_{i, j}`\u001b[39;00m\n\u001b[1;32m   (...)\u001b[0m\n\u001b[0;32m    337\u001b[0m \u001b[38;5;124;03m(np.int64(0), np.int64(2), np.int64(1), np.int64(1))\u001b[39;00m\n\u001b[0;32m    338\u001b[0m \u001b[38;5;124;03m\"\"\"\u001b[39;00m\n\u001b[0;32m    339\u001b[0m y_true, y_pred \u001b[38;5;241m=\u001b[39m attach_unique(y_true, y_pred)\n\u001b[1;32m--> 340\u001b[0m y_type, y_true, y_pred \u001b[38;5;241m=\u001b[39m \u001b[43m_check_targets\u001b[49m\u001b[43m(\u001b[49m\u001b[43my_true\u001b[49m\u001b[43m,\u001b[49m\u001b[43m \u001b[49m\u001b[43my_pred\u001b[49m\u001b[43m)\u001b[49m\n\u001b[0;32m    341\u001b[0m \u001b[38;5;28;01mif\u001b[39;00m y_type \u001b[38;5;129;01mnot\u001b[39;00m \u001b[38;5;129;01min\u001b[39;00m (\u001b[38;5;124m\"\u001b[39m\u001b[38;5;124mbinary\u001b[39m\u001b[38;5;124m\"\u001b[39m, \u001b[38;5;124m\"\u001b[39m\u001b[38;5;124mmulticlass\u001b[39m\u001b[38;5;124m\"\u001b[39m):\n\u001b[0;32m    342\u001b[0m     \u001b[38;5;28;01mraise\u001b[39;00m \u001b[38;5;167;01mValueError\u001b[39;00m(\u001b[38;5;124m\"\u001b[39m\u001b[38;5;132;01m%s\u001b[39;00m\u001b[38;5;124m is not supported\u001b[39m\u001b[38;5;124m\"\u001b[39m \u001b[38;5;241m%\u001b[39m y_type)\n",
      "File \u001b[1;32mc:\\Users\\aalrassi\\AppData\\Local\\miniconda3\\envs\\brazil_ecom\\lib\\site-packages\\sklearn\\metrics\\_classification.py:98\u001b[0m, in \u001b[0;36m_check_targets\u001b[1;34m(y_true, y_pred)\u001b[0m\n\u001b[0;32m     71\u001b[0m \u001b[38;5;250m\u001b[39m\u001b[38;5;124;03m\"\"\"Check that y_true and y_pred belong to the same classification task.\u001b[39;00m\n\u001b[0;32m     72\u001b[0m \n\u001b[0;32m     73\u001b[0m \u001b[38;5;124;03mThis converts multiclass or binary types to a common shape, and raises a\u001b[39;00m\n\u001b[1;32m   (...)\u001b[0m\n\u001b[0;32m     95\u001b[0m \u001b[38;5;124;03my_pred : array or indicator matrix\u001b[39;00m\n\u001b[0;32m     96\u001b[0m \u001b[38;5;124;03m\"\"\"\u001b[39;00m\n\u001b[0;32m     97\u001b[0m xp, _ \u001b[38;5;241m=\u001b[39m get_namespace(y_true, y_pred)\n\u001b[1;32m---> 98\u001b[0m \u001b[43mcheck_consistent_length\u001b[49m\u001b[43m(\u001b[49m\u001b[43my_true\u001b[49m\u001b[43m,\u001b[49m\u001b[43m \u001b[49m\u001b[43my_pred\u001b[49m\u001b[43m)\u001b[49m\n\u001b[0;32m     99\u001b[0m type_true \u001b[38;5;241m=\u001b[39m type_of_target(y_true, input_name\u001b[38;5;241m=\u001b[39m\u001b[38;5;124m\"\u001b[39m\u001b[38;5;124my_true\u001b[39m\u001b[38;5;124m\"\u001b[39m)\n\u001b[0;32m    100\u001b[0m type_pred \u001b[38;5;241m=\u001b[39m type_of_target(y_pred, input_name\u001b[38;5;241m=\u001b[39m\u001b[38;5;124m\"\u001b[39m\u001b[38;5;124my_pred\u001b[39m\u001b[38;5;124m\"\u001b[39m)\n",
      "File \u001b[1;32mc:\\Users\\aalrassi\\AppData\\Local\\miniconda3\\envs\\brazil_ecom\\lib\\site-packages\\sklearn\\utils\\validation.py:475\u001b[0m, in \u001b[0;36mcheck_consistent_length\u001b[1;34m(*arrays)\u001b[0m\n\u001b[0;32m    473\u001b[0m uniques \u001b[38;5;241m=\u001b[39m np\u001b[38;5;241m.\u001b[39munique(lengths)\n\u001b[0;32m    474\u001b[0m \u001b[38;5;28;01mif\u001b[39;00m \u001b[38;5;28mlen\u001b[39m(uniques) \u001b[38;5;241m>\u001b[39m \u001b[38;5;241m1\u001b[39m:\n\u001b[1;32m--> 475\u001b[0m     \u001b[38;5;28;01mraise\u001b[39;00m \u001b[38;5;167;01mValueError\u001b[39;00m(\n\u001b[0;32m    476\u001b[0m         \u001b[38;5;124m\"\u001b[39m\u001b[38;5;124mFound input variables with inconsistent numbers of samples: \u001b[39m\u001b[38;5;132;01m%r\u001b[39;00m\u001b[38;5;124m\"\u001b[39m\n\u001b[0;32m    477\u001b[0m         \u001b[38;5;241m%\u001b[39m [\u001b[38;5;28mint\u001b[39m(l) \u001b[38;5;28;01mfor\u001b[39;00m l \u001b[38;5;129;01min\u001b[39;00m lengths]\n\u001b[0;32m    478\u001b[0m     )\n",
      "\u001b[1;31mValueError\u001b[0m: Found input variables with inconsistent numbers of samples: [3111, 15552]"
     ]
    }
   ],
   "source": [
    "import seaborn as sns\n",
    "from sklearn.metrics import confusion_matrix\n",
    "cm = confusion_matrix(y_test, y_pred_binary)\n",
    "sns.heatmap(cm, annot=True, fmt='d', cmap='Blues',\n",
    "            xticklabels=['Pred On-time', 'Pred Late'],\n",
    "            yticklabels=['True On-time', 'True Late'])\n",
    "plt.xlabel('Prediction')\n",
    "plt.ylabel('Actual')\n",
    "plt.title('Confusion Matrix')\n",
    "plt.show()\n",
    "\n"
   ]
  },
  {
   "cell_type": "code",
   "execution_count": null,
   "id": "696c0741",
   "metadata": {},
   "outputs": [
    {
     "data": {
      "text/plain": [
       "late_delivery\n",
       "0    7776\n",
       "1    7776\n",
       "Name: count, dtype: int64"
      ]
     },
     "execution_count": 16,
     "metadata": {},
     "output_type": "execute_result"
    }
   ],
   "source": [
    "df_balanced['late_delivery'].value_counts()"
   ]
  },
  {
   "cell_type": "code",
   "execution_count": null,
   "id": "30cc3c6a",
   "metadata": {},
   "outputs": [
    {
     "data": {
      "text/plain": [
       "late_delivery            1.000000\n",
       "carrier_delay_hours      0.212610\n",
       "distance_km              0.068004\n",
       "processing_time_hours    0.028635\n",
       "product_weight_g         0.023055\n",
       "num_items               -0.015081\n",
       "Name: late_delivery, dtype: float64"
      ]
     },
     "execution_count": 17,
     "metadata": {},
     "output_type": "execute_result"
    }
   ],
   "source": [
    "df[features + [target]].corr()[target].sort_values(ascending=False)"
   ]
  },
  {
   "cell_type": "code",
   "execution_count": null,
   "id": "44d656eb",
   "metadata": {},
   "outputs": [
    {
     "data": {
      "image/png": "[encoded data removed]",
      "text/plain": [
       "<Figure size 640x480 with 1 Axes>"
      ]
     },
     "metadata": {},
     "output_type": "display_data"
    }
   ],
   "source": [
    "import matplotlib.pyplot as plt\n",
    "%matplotlib inline\n",
    "\n",
    "importance = model.feature_importance(importance_type='gain')\n",
    "feat_importances = pd.Series(importance, index=features)\n",
    "feat_importances.sort_values(ascending=False).plot(kind='bar')\n",
    "plt.show()\n"
   ]
  },
  {
   "cell_type": "code",
   "execution_count": null,
   "id": "2d2d83ce",
   "metadata": {},
   "outputs": [],
   "source": []
  }
 ],
 "metadata": {
  "kernelspec": {
   "display_name": "brazil_ecom",
   "language": "python",
   "name": "python3"
  },
  "language_info": {
   "codemirror_mode": {
    "name": "ipython",
    "version": 3
   },
   "file_extension": ".py",
   "mimetype": "text/x-python",
   "name": "python",
   "nbconvert_exporter": "python",
   "pygments_lexer": "ipython3",
   "version": "3.10.18"
  }
 },
 "nbformat": 4,
 "nbformat_minor": 5
}
