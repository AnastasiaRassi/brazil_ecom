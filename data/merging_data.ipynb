{
 "cells": [
  {
   "cell_type": "markdown",
   "id": "c6317e8d",
   "metadata": {},
   "source": [
    "## Preparing the full dataset:"
   ]
  },
  {
   "cell_type": "code",
   "execution_count": 99,
   "id": "914eaf1b",
   "metadata": {},
   "outputs": [],
   "source": [
    "import pandas as pd\n",
    "import os\n",
    "\n",
    "base_path = r\"C:\\Users\\aalrassi\\Documents\\anastasiawork\\ML_and_DS\\brazil_ecom\\data\\brazil_ecom\"\n",
    "\n",
    "files = {\n",
    "    'customers': 'customers_dataset.csv',\n",
    "    'geolocation': 'geolocation_dataset.csv',\n",
    "    'order_items': 'order_items_dataset.csv',\n",
    "    'order_payments': 'order_payments_dataset.csv',\n",
    "    'order_reviews': 'order_reviews_dataset.csv',  \n",
    "    'orders': 'orders_dataset.csv',\n",
    "    'product_cat_name': 'product_category_name_translation.csv',\n",
    "    'products': 'products_dataset.csv',\n",
    "    'sellers': 'sellers_dataset.csv'\n",
    "}\n",
    "\n",
    "for var_name, file_name in files.items():\n",
    "    file_path = os.path.join(base_path, file_name)\n",
    "    globals()[var_name] = pd.read_csv(file_path)\n"
   ]
  },
  {
   "cell_type": "code",
   "execution_count": 100,
   "id": "b4f6532b",
   "metadata": {},
   "outputs": [
    {
     "name": "stdout",
     "output_type": "stream",
     "text": [
      "customers Index(['customer_id', 'customer_unique_id', 'customer_zip_code_prefix',\n",
      "       'customer_city', 'customer_state'],\n",
      "      dtype='object')\n",
      "geolocation Index(['geolocation_zip_code_prefix', 'geolocation_lat', 'geolocation_lng',\n",
      "       'geolocation_city', 'geolocation_state'],\n",
      "      dtype='object')\n",
      "order_items Index(['order_id', 'order_item_id', 'product_id', 'seller_id',\n",
      "       'shipping_limit_date', 'price', 'freight_value'],\n",
      "      dtype='object')\n",
      "order_payments Index(['order_id', 'payment_sequential', 'payment_type',\n",
      "       'payment_installments', 'payment_value'],\n",
      "      dtype='object')\n",
      "order_reviews Index(['review_id', 'order_id', 'review_score', 'review_comment_title',\n",
      "       'review_comment_message', 'review_creation_date',\n",
      "       'review_answer_timestamp'],\n",
      "      dtype='object')\n",
      "orders Index(['order_id', 'customer_id', 'order_status', 'order_purchase_timestamp',\n",
      "       'order_approved_at', 'order_delivered_carrier_date',\n",
      "       'order_delivered_customer_date', 'order_estimated_delivery_date'],\n",
      "      dtype='object')\n",
      "product_cat_name Index(['product_category_name', 'product_category_name_english'], dtype='object')\n",
      "products Index(['product_id', 'product_category_name', 'product_name_lenght',\n",
      "       'product_description_lenght', 'product_photos_qty', 'product_weight_g',\n",
      "       'product_length_cm', 'product_height_cm', 'product_width_cm'],\n",
      "      dtype='object')\n",
      "sellers Index(['seller_id', 'seller_zip_code_prefix', 'seller_city', 'seller_state'], dtype='object')\n"
     ]
    }
   ],
   "source": [
    "for name in files.keys():\n",
    "    df = globals()[name] \n",
    "    print(name, df.columns)"
   ]
  },
  {
   "cell_type": "code",
   "execution_count": 101,
   "id": "3134cfc2",
   "metadata": {},
   "outputs": [
    {
     "data": {
      "text/html": [
       "<div>\n",
       "<style scoped>\n",
       "    .dataframe tbody tr th:only-of-type {\n",
       "        vertical-align: middle;\n",
       "    }\n",
       "\n",
       "    .dataframe tbody tr th {\n",
       "        vertical-align: top;\n",
       "    }\n",
       "\n",
       "    .dataframe thead th {\n",
       "        text-align: right;\n",
       "    }\n",
       "</style>\n",
       "<table border=\"1\" class=\"dataframe\">\n",
       "  <thead>\n",
       "    <tr style=\"text-align: right;\">\n",
       "      <th></th>\n",
       "      <th>order_id</th>\n",
       "      <th>order_item_id</th>\n",
       "      <th>product_id</th>\n",
       "      <th>seller_id</th>\n",
       "      <th>shipping_limit_date</th>\n",
       "      <th>price</th>\n",
       "      <th>freight_value</th>\n",
       "    </tr>\n",
       "  </thead>\n",
       "  <tbody>\n",
       "    <tr>\n",
       "      <th>0</th>\n",
       "      <td>00010242fe8c5a6d1ba2dd792cb16214</td>\n",
       "      <td>1</td>\n",
       "      <td>4244733e06e7ecb4970a6e2683c13e61</td>\n",
       "      <td>48436dade18ac8b2bce089ec2a041202</td>\n",
       "      <td>2017-09-19 09:45:35</td>\n",
       "      <td>58.90</td>\n",
       "      <td>13.29</td>\n",
       "    </tr>\n",
       "    <tr>\n",
       "      <th>1</th>\n",
       "      <td>00018f77f2f0320c557190d7a144bdd3</td>\n",
       "      <td>1</td>\n",
       "      <td>e5f2d52b802189ee658865ca93d83a8f</td>\n",
       "      <td>dd7ddc04e1b6c2c614352b383efe2d36</td>\n",
       "      <td>2017-05-03 11:05:13</td>\n",
       "      <td>239.90</td>\n",
       "      <td>19.93</td>\n",
       "    </tr>\n",
       "    <tr>\n",
       "      <th>2</th>\n",
       "      <td>000229ec398224ef6ca0657da4fc703e</td>\n",
       "      <td>1</td>\n",
       "      <td>c777355d18b72b67abbeef9df44fd0fd</td>\n",
       "      <td>5b51032eddd242adc84c38acab88f23d</td>\n",
       "      <td>2018-01-18 14:48:30</td>\n",
       "      <td>199.00</td>\n",
       "      <td>17.87</td>\n",
       "    </tr>\n",
       "    <tr>\n",
       "      <th>3</th>\n",
       "      <td>00024acbcdf0a6daa1e931b038114c75</td>\n",
       "      <td>1</td>\n",
       "      <td>7634da152a4610f1595efa32f14722fc</td>\n",
       "      <td>9d7a1d34a5052409006425275ba1c2b4</td>\n",
       "      <td>2018-08-15 10:10:18</td>\n",
       "      <td>12.99</td>\n",
       "      <td>12.79</td>\n",
       "    </tr>\n",
       "    <tr>\n",
       "      <th>4</th>\n",
       "      <td>00042b26cf59d7ce69dfabb4e55b4fd9</td>\n",
       "      <td>1</td>\n",
       "      <td>ac6c3623068f30de03045865e4e10089</td>\n",
       "      <td>df560393f3a51e74553ab94004ba5c87</td>\n",
       "      <td>2017-02-13 13:57:51</td>\n",
       "      <td>199.90</td>\n",
       "      <td>18.14</td>\n",
       "    </tr>\n",
       "  </tbody>\n",
       "</table>\n",
       "</div>"
      ],
      "text/plain": [
       "                           order_id  order_item_id  \\\n",
       "0  00010242fe8c5a6d1ba2dd792cb16214              1   \n",
       "1  00018f77f2f0320c557190d7a144bdd3              1   \n",
       "2  000229ec398224ef6ca0657da4fc703e              1   \n",
       "3  00024acbcdf0a6daa1e931b038114c75              1   \n",
       "4  00042b26cf59d7ce69dfabb4e55b4fd9              1   \n",
       "\n",
       "                         product_id                         seller_id  \\\n",
       "0  4244733e06e7ecb4970a6e2683c13e61  48436dade18ac8b2bce089ec2a041202   \n",
       "1  e5f2d52b802189ee658865ca93d83a8f  dd7ddc04e1b6c2c614352b383efe2d36   \n",
       "2  c777355d18b72b67abbeef9df44fd0fd  5b51032eddd242adc84c38acab88f23d   \n",
       "3  7634da152a4610f1595efa32f14722fc  9d7a1d34a5052409006425275ba1c2b4   \n",
       "4  ac6c3623068f30de03045865e4e10089  df560393f3a51e74553ab94004ba5c87   \n",
       "\n",
       "   shipping_limit_date   price  freight_value  \n",
       "0  2017-09-19 09:45:35   58.90          13.29  \n",
       "1  2017-05-03 11:05:13  239.90          19.93  \n",
       "2  2018-01-18 14:48:30  199.00          17.87  \n",
       "3  2018-08-15 10:10:18   12.99          12.79  \n",
       "4  2017-02-13 13:57:51  199.90          18.14  "
      ]
     },
     "execution_count": 101,
     "metadata": {},
     "output_type": "execute_result"
    }
   ],
   "source": [
    "order_items.head()"
   ]
  },
  {
   "cell_type": "code",
   "execution_count": 102,
   "id": "0a2d9e79",
   "metadata": {},
   "outputs": [],
   "source": [
    "orders['late_delivery'] = (\n",
    "    orders['order_delivered_customer_date'] > orders['order_estimated_delivery_date']\n",
    ").astype(int)\n"
   ]
  },
  {
   "cell_type": "code",
   "execution_count": 103,
   "id": "32c4cac9",
   "metadata": {},
   "outputs": [],
   "source": [
    "df = orders.merge(\n",
    "    customers,\n",
    "    on='customer_id',\n",
    "    how='left'\n",
    ")"
   ]
  },
  {
   "cell_type": "code",
   "execution_count": 104,
   "id": "98c630bd",
   "metadata": {},
   "outputs": [],
   "source": [
    "order_items_agg = order_items.groupby('order_id').agg({\n",
    "    'price': 'sum',            \n",
    "    'freight_value': 'sum',    \n",
    "    'product_id': 'count',    \n",
    "}).rename(columns={'product_id': 'num_items'})\n",
    "\n",
    "df = df.merge(order_items_agg, on='order_id', how='left')\n"
   ]
  },
  {
   "cell_type": "code",
   "execution_count": 105,
   "id": "bacd1074",
   "metadata": {},
   "outputs": [],
   "source": [
    "order_payments_agg = order_payments.groupby('order_id').agg({\n",
    "    'payment_value': 'sum',           # total paid\n",
    "    'payment_installments': 'max',    # max installments\n",
    "}).reset_index()\n",
    "\n",
    "df = df.merge(order_payments_agg, on='order_id', how='left')\n"
   ]
  },
  {
   "cell_type": "code",
   "execution_count": 106,
   "id": "8aae333f",
   "metadata": {},
   "outputs": [],
   "source": [
    "# For simplicity, take first seller per order (or you could compute distances per seller)\n",
    "order_items_seller = order_items[['order_id', 'seller_id']].drop_duplicates(subset=['order_id'])\n",
    "df = df.merge(order_items_seller, on='order_id', how='left')\n",
    "df = df.merge(sellers, on='seller_id', how='left')"
   ]
  },
  {
   "cell_type": "code",
   "execution_count": 107,
   "id": "4b0f2415",
   "metadata": {},
   "outputs": [],
   "source": [
    "# Seller geolocation\n",
    "seller_geo = geolocation.groupby('geolocation_zip_code_prefix')[['geolocation_lat', 'geolocation_lng']].mean().reset_index()\n",
    "df = df.merge(seller_geo, left_on='seller_zip_code_prefix', right_on='geolocation_zip_code_prefix', how='left')\n",
    "df = df.rename(columns={'geolocation_lat': 'seller_lat', 'geolocation_lng': 'seller_lng'}).drop(columns=['geolocation_zip_code_prefix'])\n",
    "\n",
    "# Customer geolocation\n",
    "customer_geo = geolocation.groupby('geolocation_zip_code_prefix')[['geolocation_lat', 'geolocation_lng']].mean().reset_index()\n",
    "df = df.merge(customer_geo, left_on='customer_zip_code_prefix', right_on='geolocation_zip_code_prefix', how='left')\n",
    "df = df.rename(columns={'geolocation_lat': 'customer_lat', 'geolocation_lng': 'customer_lng'}).drop(columns=['geolocation_zip_code_prefix'])\n"
   ]
  },
  {
   "cell_type": "code",
   "execution_count": 108,
   "id": "c2e3182e",
   "metadata": {},
   "outputs": [],
   "source": [
    "locs = df[['seller_lat','seller_lng','customer_lat','customer_lng']].copy()\n",
    "locs.drop_duplicates(inplace=True)\n"
   ]
  },
  {
   "cell_type": "code",
   "execution_count": 109,
   "id": "5713ec19",
   "metadata": {},
   "outputs": [],
   "source": [
    "order_items_products = order_items.merge(products, on='product_id', how='left')\n",
    "order_items_products_agg = order_items_products.groupby('order_id').agg({\n",
    "    'product_weight_g': 'mean',\n",
    "    'product_length_cm': 'mean',\n",
    "    'product_height_cm': 'mean',\n",
    "    'product_width_cm': 'mean',\n",
    "}).reset_index()\n",
    "\n",
    "df = df.merge(order_items_products_agg, on='order_id', how='left')\n"
   ]
  },
  {
   "cell_type": "code",
   "execution_count": 110,
   "id": "c6d0759d",
   "metadata": {},
   "outputs": [],
   "source": [
    "products = products.merge(\n",
    "    product_cat_name[['product_category_name', 'product_category_name_english']],\n",
    "    on='product_category_name',\n",
    "    how='left'\n",
    ")\n"
   ]
  },
  {
   "cell_type": "code",
   "execution_count": 114,
   "id": "1ab5cedd",
   "metadata": {},
   "outputs": [],
   "source": [
    "order_items_with_cat = order_items.merge(\n",
    "    products[['product_id', 'product_category_name_english']],\n",
    "    on='product_id',\n",
    "    how='left'\n",
    ")\n",
    "\n",
    "order_cat = order_items_with_cat.groupby('order_id')['product_category_name_english'] \\\n",
    "    .agg(lambda x: x.mode().iloc[0] if not x.mode().empty else 'unknown') \\\n",
    "    .reset_index()\n",
    "\n",
    "df = df.merge(order_cat, on='order_id', how='left')\n"
   ]
  },
  {
   "cell_type": "code",
   "execution_count": 116,
   "id": "f530f55c",
   "metadata": {},
   "outputs": [],
   "source": [
    "path = r'C:\\Users\\aalrassi\\Documents\\anastasiawork\\ML_and_DS\\brazil_ecom\\data'\n",
    "df.to_csv(f'{path}\\\\brazil_ecommerce.csv', index=False)"
   ]
  },
  {
   "cell_type": "code",
   "execution_count": null,
   "id": "8b02c065",
   "metadata": {},
   "outputs": [],
   "source": []
  }
 ],
 "metadata": {
  "kernelspec": {
   "display_name": "myenv",
   "language": "python",
   "name": "python3"
  },
  "language_info": {
   "codemirror_mode": {
    "name": "ipython",
    "version": 3
   },
   "file_extension": ".py",
   "mimetype": "text/x-python",
   "name": "python",
   "nbconvert_exporter": "python",
   "pygments_lexer": "ipython3",
   "version": "3.10.18"
  }
 },
 "nbformat": 4,
 "nbformat_minor": 5
}
