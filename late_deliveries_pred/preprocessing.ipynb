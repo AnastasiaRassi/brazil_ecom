{
 "cells": [
  {
   "cell_type": "code",
   "execution_count": 1,
   "id": "c6ee5689",
   "metadata": {},
   "outputs": [],
   "source": [
    "import pandas as pd"
   ]
  },
  {
   "cell_type": "code",
   "execution_count": 2,
   "id": "89b85904",
   "metadata": {},
   "outputs": [],
   "source": [
    "df=pd.read_csv(r'C:\\Users\\aalrassi\\Documents\\anastasiawork\\ML_and_DS\\brazil_ecom\\data\\brazil_ecommerce.csv')"
   ]
  },
  {
   "cell_type": "code",
   "execution_count": null,
   "id": "d924e09d",
   "metadata": {},
   "outputs": [],
   "source": []
  }
 ],
 "metadata": {
  "kernelspec": {
   "display_name": "brazil_ecom",
   "language": "python",
   "name": "python3"
  },
  "language_info": {
   "codemirror_mode": {
    "name": "ipython",
    "version": 3
   },
   "file_extension": ".py",
   "mimetype": "text/x-python",
   "name": "python",
   "nbconvert_exporter": "python",
   "pygments_lexer": "ipython3",
   "version": "3.10.18"
  }
 },
 "nbformat": 4,
 "nbformat_minor": 5
}
